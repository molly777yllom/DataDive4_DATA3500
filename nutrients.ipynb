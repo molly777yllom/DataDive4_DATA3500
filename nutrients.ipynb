{
 "cells": [
  {
   "cell_type": "markdown",
   "metadata": {},
   "source": [
    "# Nutritional values for common foods and products\n",
    "Source: https://www.kaggle.com/datasets/trolukovich/nutritional-values-for-common-foods-and-products  \n",
    "(this is the smaller dataset)"
   ]
  },
  {
   "cell_type": "markdown",
   "metadata": {},
   "source": [
    "### Questions\n",
    "1. What "
   ]
  },
  {
   "cell_type": "code",
   "execution_count": 2,
   "metadata": {},
   "outputs": [
    {
     "data": {
      "text/html": [
       "<div>\n",
       "<style scoped>\n",
       "    .dataframe tbody tr th:only-of-type {\n",
       "        vertical-align: middle;\n",
       "    }\n",
       "\n",
       "    .dataframe tbody tr th {\n",
       "        vertical-align: top;\n",
       "    }\n",
       "\n",
       "    .dataframe thead th {\n",
       "        text-align: right;\n",
       "    }\n",
       "</style>\n",
       "<table border=\"1\" class=\"dataframe\">\n",
       "  <thead>\n",
       "    <tr style=\"text-align: right;\">\n",
       "      <th></th>\n",
       "      <th>Food</th>\n",
       "      <th>Measure</th>\n",
       "      <th>Grams</th>\n",
       "      <th>Calories</th>\n",
       "      <th>Protein</th>\n",
       "      <th>Fat</th>\n",
       "      <th>Sat.Fat</th>\n",
       "      <th>Fiber</th>\n",
       "      <th>Carbs</th>\n",
       "      <th>Category</th>\n",
       "    </tr>\n",
       "  </thead>\n",
       "  <tbody>\n",
       "    <tr>\n",
       "      <th>0</th>\n",
       "      <td>Cows' milk</td>\n",
       "      <td>1 qt.</td>\n",
       "      <td>976</td>\n",
       "      <td>660</td>\n",
       "      <td>32</td>\n",
       "      <td>40</td>\n",
       "      <td>36</td>\n",
       "      <td>0</td>\n",
       "      <td>48</td>\n",
       "      <td>Dairy products</td>\n",
       "    </tr>\n",
       "    <tr>\n",
       "      <th>1</th>\n",
       "      <td>Milk skim</td>\n",
       "      <td>1 qt.</td>\n",
       "      <td>984</td>\n",
       "      <td>360</td>\n",
       "      <td>36</td>\n",
       "      <td>t</td>\n",
       "      <td>t</td>\n",
       "      <td>0</td>\n",
       "      <td>52</td>\n",
       "      <td>Dairy products</td>\n",
       "    </tr>\n",
       "    <tr>\n",
       "      <th>2</th>\n",
       "      <td>Buttermilk</td>\n",
       "      <td>1 cup</td>\n",
       "      <td>246</td>\n",
       "      <td>127</td>\n",
       "      <td>9</td>\n",
       "      <td>5</td>\n",
       "      <td>4</td>\n",
       "      <td>0</td>\n",
       "      <td>13</td>\n",
       "      <td>Dairy products</td>\n",
       "    </tr>\n",
       "    <tr>\n",
       "      <th>3</th>\n",
       "      <td>Evaporated, undiluted</td>\n",
       "      <td>1 cup</td>\n",
       "      <td>252</td>\n",
       "      <td>345</td>\n",
       "      <td>16</td>\n",
       "      <td>20</td>\n",
       "      <td>18</td>\n",
       "      <td>0</td>\n",
       "      <td>24</td>\n",
       "      <td>Dairy products</td>\n",
       "    </tr>\n",
       "    <tr>\n",
       "      <th>4</th>\n",
       "      <td>Fortified milk</td>\n",
       "      <td>6 cups</td>\n",
       "      <td>1,419</td>\n",
       "      <td>1,373</td>\n",
       "      <td>89</td>\n",
       "      <td>42</td>\n",
       "      <td>23</td>\n",
       "      <td>1.4</td>\n",
       "      <td>119</td>\n",
       "      <td>Dairy products</td>\n",
       "    </tr>\n",
       "  </tbody>\n",
       "</table>\n",
       "</div>"
      ],
      "text/plain": [
       "                    Food Measure  Grams Calories Protein Fat Sat.Fat Fiber  \\\n",
       "0             Cows' milk   1 qt.    976      660      32  40      36     0   \n",
       "1              Milk skim   1 qt.    984      360      36   t       t     0   \n",
       "2             Buttermilk   1 cup    246      127       9   5       4     0   \n",
       "3  Evaporated, undiluted   1 cup    252      345      16  20      18     0   \n",
       "4         Fortified milk  6 cups  1,419    1,373      89  42      23   1.4   \n",
       "\n",
       "  Carbs        Category  \n",
       "0    48  Dairy products  \n",
       "1    52  Dairy products  \n",
       "2    13  Dairy products  \n",
       "3    24  Dairy products  \n",
       "4   119  Dairy products  "
      ]
     },
     "execution_count": 2,
     "metadata": {},
     "output_type": "execute_result"
    }
   ],
   "source": [
    "import pandas as pd\n",
    "# create dataframe\n",
    "nutrients = pd.read_csv(\"nutrients_csvfile.csv\")\n",
    "# display a preview\n",
    "nutrients.head()"
   ]
  },
  {
   "cell_type": "code",
   "execution_count": 3,
   "metadata": {},
   "outputs": [
    {
     "name": "stdout",
     "output_type": "stream",
     "text": [
      "~~~~~~~~~~~~~~~~~~~~~~~~~~~~~~~~~~~~~~~~~~~~~~~~~~~~~~~~~~~~~~~~~~~~~~~~~~~~~~~~~~~~~~~~~~~~~~~~~~~~~~~~~~\n",
      "There are 10 columns and 335 rows.\n",
      "~~~~~~~~~~~~~~~~~~~~~~~~~~~~~~~~~~~~~~~~~~~~~~~~~~~~~~~~~~~~~~~~~~~~~~~~~~~~~~~~~~~~~~~~~~~~~~~~~~~~~~~~~~\n",
      "\n"
     ]
    }
   ],
   "source": [
    "print(\"~~~~~~~~~~~~~~~~~~~~~~~~~~~~~~~~~~~~~~~~~~~~~~~~~~~~~~~~~~~~~~~~~~~~~~~~~~~~~~~~~~~~~~~~~~~~~~~~~~~~~~~~~~\\nThere are \" + str(nutrients.shape[1]) + \" columns and \" + str(nutrients.shape[0]) + \" rows.\\n~~~~~~~~~~~~~~~~~~~~~~~~~~~~~~~~~~~~~~~~~~~~~~~~~~~~~~~~~~~~~~~~~~~~~~~~~~~~~~~~~~~~~~~~~~~~~~~~~~~~~~~~~~\\n\")"
   ]
  },
  {
   "cell_type": "code",
   "execution_count": 4,
   "metadata": {},
   "outputs": [
    {
     "data": {
      "text/plain": [
       "Food        object\n",
       "Measure     object\n",
       "Grams       object\n",
       "Calories    object\n",
       "Protein     object\n",
       "Fat         object\n",
       "Sat.Fat     object\n",
       "Fiber       object\n",
       "Carbs       object\n",
       "Category    object\n",
       "dtype: object"
      ]
     },
     "execution_count": 4,
     "metadata": {},
     "output_type": "execute_result"
    }
   ],
   "source": [
    "nutrients.dtypes"
   ]
  },
  {
   "cell_type": "code",
   "execution_count": 5,
   "metadata": {},
   "outputs": [
    {
     "data": {
      "text/html": [
       "<div>\n",
       "<style scoped>\n",
       "    .dataframe tbody tr th:only-of-type {\n",
       "        vertical-align: middle;\n",
       "    }\n",
       "\n",
       "    .dataframe tbody tr th {\n",
       "        vertical-align: top;\n",
       "    }\n",
       "\n",
       "    .dataframe thead th {\n",
       "        text-align: right;\n",
       "    }\n",
       "</style>\n",
       "<table border=\"1\" class=\"dataframe\">\n",
       "  <thead>\n",
       "    <tr style=\"text-align: right;\">\n",
       "      <th></th>\n",
       "      <th>Food</th>\n",
       "      <th>Measure</th>\n",
       "      <th>Grams</th>\n",
       "      <th>Calories</th>\n",
       "      <th>Protein</th>\n",
       "      <th>Fat</th>\n",
       "      <th>Sat.Fat</th>\n",
       "      <th>Fiber</th>\n",
       "      <th>Carbs</th>\n",
       "      <th>Category</th>\n",
       "    </tr>\n",
       "  </thead>\n",
       "  <tbody>\n",
       "    <tr>\n",
       "      <th>count</th>\n",
       "      <td>335</td>\n",
       "      <td>335</td>\n",
       "      <td>335</td>\n",
       "      <td>334</td>\n",
       "      <td>335</td>\n",
       "      <td>335</td>\n",
       "      <td>333</td>\n",
       "      <td>335</td>\n",
       "      <td>335</td>\n",
       "      <td>335</td>\n",
       "    </tr>\n",
       "    <tr>\n",
       "      <th>unique</th>\n",
       "      <td>329</td>\n",
       "      <td>61</td>\n",
       "      <td>103</td>\n",
       "      <td>152</td>\n",
       "      <td>40</td>\n",
       "      <td>45</td>\n",
       "      <td>38</td>\n",
       "      <td>57</td>\n",
       "      <td>80</td>\n",
       "      <td>16</td>\n",
       "    </tr>\n",
       "    <tr>\n",
       "      <th>top</th>\n",
       "      <td>Butter</td>\n",
       "      <td>1 cup</td>\n",
       "      <td>100</td>\n",
       "      <td>100</td>\n",
       "      <td>1</td>\n",
       "      <td>t</td>\n",
       "      <td>0</td>\n",
       "      <td>0</td>\n",
       "      <td>0</td>\n",
       "      <td>Breads, cereals, fastfood,grains</td>\n",
       "    </tr>\n",
       "    <tr>\n",
       "      <th>freq</th>\n",
       "      <td>3</td>\n",
       "      <td>120</td>\n",
       "      <td>38</td>\n",
       "      <td>14</td>\n",
       "      <td>53</td>\n",
       "      <td>115</td>\n",
       "      <td>174</td>\n",
       "      <td>116</td>\n",
       "      <td>45</td>\n",
       "      <td>45</td>\n",
       "    </tr>\n",
       "  </tbody>\n",
       "</table>\n",
       "</div>"
      ],
      "text/plain": [
       "          Food Measure Grams Calories Protein  Fat Sat.Fat Fiber Carbs  \\\n",
       "count      335     335   335      334     335  335     333   335   335   \n",
       "unique     329      61   103      152      40   45      38    57    80   \n",
       "top     Butter   1 cup   100      100       1    t       0     0     0   \n",
       "freq         3     120    38       14      53  115     174   116    45   \n",
       "\n",
       "                                Category  \n",
       "count                                335  \n",
       "unique                                16  \n",
       "top     Breads, cereals, fastfood,grains  \n",
       "freq                                  45  "
      ]
     },
     "execution_count": 5,
     "metadata": {},
     "output_type": "execute_result"
    }
   ],
   "source": [
    "nutrients.describe()"
   ]
  },
  {
   "cell_type": "code",
   "execution_count": 6,
   "metadata": {},
   "outputs": [
    {
     "name": "stdout",
     "output_type": "stream",
     "text": [
      "There are 329 different food names in `Food`. \n",
      "There are 61 different measures in `Measure`. \n",
      "There are 103 different gram values in `Grams`. \n",
      "There are 152 different calorie values in `Calories`. \n",
      "There are 40 different protein values in `Protein`. \n",
      "There are 45 different fat values in `Fat`. \n",
      "There are 38 different saturated fat values in `Sat.Fat`. \n",
      "There are 57 different fiber values in `Fiber`. \n",
      "There are 80 different carb values in `Carbs`. \n",
      "There are 16 different categories in `Category`. \n"
     ]
    }
   ],
   "source": [
    "# Display the number of uniques for each categorical column, where it makes sense\n",
    "print(\"There are \" + str(nutrients['Food'].nunique()) + \" different food names in `Food`. \")\n",
    "print(\"There are \" + str(nutrients['Measure'].nunique()) + \" different measures in `Measure`. \")\n",
    "print(\"There are \" + str(nutrients['Grams'].nunique()) + \" different gram values in `Grams`. \")\n",
    "print(\"There are \" + str(nutrients['Calories'].nunique()) + \" different calorie values in `Calories`. \")\n",
    "print(\"There are \" + str(nutrients['Protein'].nunique()) + \" different protein values in `Protein`. \")\n",
    "print(\"There are \" + str(nutrients['Fat'].nunique()) + \" different fat values in `Fat`. \")\n",
    "print(\"There are \" + str(nutrients['Sat.Fat'].nunique()) + \" different saturated fat values in `Sat.Fat`. \")\n",
    "print(\"There are \" + str(nutrients['Fiber'].nunique()) + \" different fiber values in `Fiber`. \")\n",
    "print(\"There are \" + str(nutrients['Carbs'].nunique()) + \" different carb values in `Carbs`. \")\n",
    "print(\"There are \" + str(nutrients['Category'].nunique()) + \" different categories in `Category`. \")"
   ]
  },
  {
   "cell_type": "code",
   "execution_count": 7,
   "metadata": {},
   "outputs": [
    {
     "data": {
      "text/html": [
       "<div>\n",
       "<style scoped>\n",
       "    .dataframe tbody tr th:only-of-type {\n",
       "        vertical-align: middle;\n",
       "    }\n",
       "\n",
       "    .dataframe tbody tr th {\n",
       "        vertical-align: top;\n",
       "    }\n",
       "\n",
       "    .dataframe thead th {\n",
       "        text-align: right;\n",
       "    }\n",
       "</style>\n",
       "<table border=\"1\" class=\"dataframe\">\n",
       "  <thead>\n",
       "    <tr style=\"text-align: right;\">\n",
       "      <th></th>\n",
       "      <th>Count Missing</th>\n",
       "      <th>% Missing</th>\n",
       "    </tr>\n",
       "  </thead>\n",
       "  <tbody>\n",
       "    <tr>\n",
       "      <th>Calories</th>\n",
       "      <td>1</td>\n",
       "      <td>0.299</td>\n",
       "    </tr>\n",
       "    <tr>\n",
       "      <th>Sat.Fat</th>\n",
       "      <td>2</td>\n",
       "      <td>0.597</td>\n",
       "    </tr>\n",
       "  </tbody>\n",
       "</table>\n",
       "</div>"
      ],
      "text/plain": [
       "          Count Missing  % Missing\n",
       "Calories              1      0.299\n",
       "Sat.Fat               2      0.597"
      ]
     },
     "metadata": {},
     "output_type": "display_data"
    }
   ],
   "source": [
    "# check for missing values\n",
    "missing_values = nutrients.isnull().sum()\n",
    "\n",
    "# calculate missing value counts for those columns where missing values are greater than zero\n",
    "missing_values_df = pd.DataFrame(missing_values[missing_values > 0], columns=['Count Missing'])\n",
    "\n",
    "# calculate the percentage of missing values for each column\n",
    "missing_pct = ((missing_values / nutrients.shape[0] * 100).round(3))\n",
    "\n",
    "# add missing count and percent to table\n",
    "missing_values_df[\"% Missing\"] = missing_pct\n",
    "\n",
    "# check if there are no missing values, and print a message if that's the case\n",
    "if missing_values_df.empty:\n",
    "    print(\"There are no missing values.\")\n",
    "else:\n",
    "    # display the table if there are missing values\n",
    "    display(missing_values_df)"
   ]
  },
  {
   "cell_type": "code",
   "execution_count": 12,
   "metadata": {},
   "outputs": [
    {
     "name": "stdout",
     "output_type": "stream",
     "text": [
      "There are 0 duplicate row(s).\n",
      "\n"
     ]
    },
    {
     "data": {
      "text/html": [
       "<div>\n",
       "<style scoped>\n",
       "    .dataframe tbody tr th:only-of-type {\n",
       "        vertical-align: middle;\n",
       "    }\n",
       "\n",
       "    .dataframe tbody tr th {\n",
       "        vertical-align: top;\n",
       "    }\n",
       "\n",
       "    .dataframe thead th {\n",
       "        text-align: right;\n",
       "    }\n",
       "</style>\n",
       "<table border=\"1\" class=\"dataframe\">\n",
       "  <thead>\n",
       "    <tr style=\"text-align: right;\">\n",
       "      <th></th>\n",
       "      <th>Food</th>\n",
       "      <th>Measure</th>\n",
       "      <th>Grams</th>\n",
       "      <th>Calories</th>\n",
       "      <th>Protein</th>\n",
       "      <th>Fat</th>\n",
       "      <th>Sat.Fat</th>\n",
       "      <th>Fiber</th>\n",
       "      <th>Carbs</th>\n",
       "      <th>Category</th>\n",
       "    </tr>\n",
       "  </thead>\n",
       "  <tbody>\n",
       "  </tbody>\n",
       "</table>\n",
       "</div>"
      ],
      "text/plain": [
       "Empty DataFrame\n",
       "Columns: [Food, Measure, Grams, Calories, Protein, Fat, Sat.Fat, Fiber, Carbs, Category]\n",
       "Index: []"
      ]
     },
     "execution_count": 12,
     "metadata": {},
     "output_type": "execute_result"
    }
   ],
   "source": [
    "# check for duplicate rows\n",
    "duplicate_rows = nutrients.duplicated().sum()\n",
    "print(\"There are \" + str(duplicate_rows) + \" duplicate row(s).\\n\")\n",
    "\n",
    "# get a boolean series indicating which rows are duplicates (including the original rows)\n",
    "duplicate_mask = nutrients.duplicated(keep=False)\n",
    "\n",
    "# use mask to filter and display both the original and duplicate rows\n",
    "duplicate_rows_df = nutrients[duplicate_mask]\n",
    "duplicate_rows_df"
   ]
  },
  {
   "cell_type": "markdown",
   "metadata": {},
   "source": [
    "# questions\n",
    "1. What "
   ]
  }
 ],
 "metadata": {
  "kernelspec": {
   "display_name": "base",
   "language": "python",
   "name": "python3"
  },
  "language_info": {
   "codemirror_mode": {
    "name": "ipython",
    "version": 3
   },
   "file_extension": ".py",
   "mimetype": "text/x-python",
   "name": "python",
   "nbconvert_exporter": "python",
   "pygments_lexer": "ipython3",
   "version": "3.11.4"
  }
 },
 "nbformat": 4,
 "nbformat_minor": 5
}
